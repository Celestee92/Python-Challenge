{
 "cells": [
  {
   "cell_type": "code",
   "execution_count": 1,
   "id": "18104232",
   "metadata": {},
   "outputs": [
    {
     "name": "stdout",
     "output_type": "stream",
     "text": [
      "Financial Analysis\n",
      "------------------------------\n",
      "Total Months: 86\n",
      "Total: $22564198\n",
      "Average Change: $-8311.11\n",
      "Greatest Increase in Profits: Aug-16 ($1862002)\n",
      "Greatest Decrease in Profits: Feb-14 ($-1825558)\n",
      "Analysis has been exported to financial_analysis.txt\n"
     ]
    }
   ],
   "source": [
    "import csv\n",
    "\n",
    "# Initialize variables to store the data/results\n",
    "total_months = 0\n",
    "net_total = 0\n",
    "previous_profit_loss = 0\n",
    "monthly_changes = []\n",
    "dates = []\n",
    "\n",
    "# Read the dataset from budget_data.csv\n",
    "with open('budget_data.csv', 'r') as file:\n",
    "    csv_reader = csv.reader(file)\n",
    "    header = next(csv_reader)\n",
    "\n",
    "    for row in csv_reader:\n",
    "        date = row[0]\n",
    "        profit_loss = int(row[1])\n",
    "\n",
    "        # Calculate the total number of months\n",
    "        total_months += 1\n",
    "\n",
    "        # Calculate the net total amount of profit/loss\n",
    "        net_total += profit_loss\n",
    "\n",
    "        # Calculate the monthly changes\n",
    "        if total_months > 1:\n",
    "            monthly_change = profit_loss - previous_profit_loss\n",
    "            monthly_changes.append(monthly_change)\n",
    "            dates.append(date)\n",
    "\n",
    "        previous_profit_loss = profit_loss\n",
    "\n",
    "# Calculate the average change\n",
    "average_change = sum(monthly_changes) / len(monthly_changes)\n",
    "\n",
    "# Find the greatest increase and decrease in profit/loss\n",
    "greatest_increase = max(monthly_changes)\n",
    "greatest_decrease = min(monthly_changes)\n",
    "\n",
    "# Get the corresponding dates for the greatest increase and decrease\n",
    "greatest_increase_date = dates[monthly_changes.index(greatest_increase)]\n",
    "greatest_decrease_date = dates[monthly_changes.index(greatest_decrease)]\n",
    "\n",
    "# Print the analysis to the terminal\n",
    "print(\"Financial Analysis\")\n",
    "print(\"-\" * 30)\n",
    "print(f\"Total Months: {total_months}\")\n",
    "print(f\"Total: ${net_total}\")\n",
    "print(f\"Average Change: ${average_change:.2f}\")\n",
    "print(f\"Greatest Increase in Profits: {greatest_increase_date} (${greatest_increase})\")\n",
    "print(f\"Greatest Decrease in Profits: {greatest_decrease_date} (${greatest_decrease})\")\n",
    "\n",
    "# Export the results to a text file\n",
    "with open('financial_analysis.txt', 'w') as output_file:\n",
    "    output_file.write(\"Financial Analysis\\n\")\n",
    "    output_file.write(\"-\" * 30 + \"\\n\")\n",
    "    output_file.write(f\"Total Months: {total_months}\\n\")\n",
    "    output_file.write(f\"Total: ${net_total}\\n\")\n",
    "    output_file.write(f\"Average Change: ${average_change:.2f}\\n\")\n",
    "    output_file.write(f\"Greatest Increase in Profits: {greatest_increase_date} (${greatest_increase})\\n\")\n",
    "    output_file.write(f\"Greatest Decrease in Profits: {greatest_decrease_date} (${greatest_decrease})\\n\")\n",
    "\n",
    "print(\"Analysis has been exported to financial_analysis.txt\")\n",
    "\n",
    "\n"
   ]
  },
  {
   "cell_type": "code",
   "execution_count": null,
   "id": "55df0cba",
   "metadata": {},
   "outputs": [],
   "source": []
  }
 ],
 "metadata": {
  "kernelspec": {
   "display_name": "Python 3 (ipykernel)",
   "language": "python",
   "name": "python3"
  },
  "language_info": {
   "codemirror_mode": {
    "name": "ipython",
    "version": 3
   },
   "file_extension": ".py",
   "mimetype": "text/x-python",
   "name": "python",
   "nbconvert_exporter": "python",
   "pygments_lexer": "ipython3",
   "version": "3.10.13"
  }
 },
 "nbformat": 4,
 "nbformat_minor": 5
}
