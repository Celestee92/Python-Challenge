{
 "cells": [
  {
   "cell_type": "code",
   "execution_count": 1,
   "id": "02582ed1",
   "metadata": {},
   "outputs": [
    {
     "name": "stdout",
     "output_type": "stream",
     "text": [
      "Election Results\n",
      "------------------------------\n",
      "Total Votes: 369711\n",
      "------------------------------\n",
      "Charles Casper Stockham: 23.049% (85213)\n",
      "Diana DeGette: 73.812% (272892)\n",
      "Raymon Anthony Doane: 3.139% (11606)\n",
      "------------------------------\n",
      "Winner: Diana DeGette\n",
      "------------------------------\n",
      "Analysis has been exported to election_results.txt\n"
     ]
    }
   ],
   "source": [
    "import csv\n",
    "\n",
    "# Initialize variables to store the data\n",
    "total_votes = 0\n",
    "candidates = {}\n",
    "winner = \"\"\n",
    "winner_votes = 0\n",
    "\n",
    "# Read the dataset from election_data.csv\n",
    "with open('election_data.csv', 'r') as file:\n",
    "    csv_reader = csv.reader(file)\n",
    "    header = next(csv_reader)\n",
    "\n",
    "    for row in csv_reader:\n",
    "        voter_id, county, candidate = row\n",
    "\n",
    "        # Count the total number of votes cast\n",
    "        total_votes += 1\n",
    "\n",
    "        # Count the votes for each candidate\n",
    "        if candidate in candidates:\n",
    "            candidates[candidate] += 1\n",
    "        else:\n",
    "            candidates[candidate] = 1\n",
    "\n",
    "# Initialize variables to store the results\n",
    "candidate_results = []\n",
    "\n",
    "# Calculate the percentage of votes each candidate won\n",
    "for candidate, votes in candidates.items():\n",
    "    percentage = (votes / total_votes) * 100\n",
    "    candidate_results.append((candidate, votes, percentage))\n",
    "\n",
    "# Find the winner of the election based on popular vote\n",
    "for candidate, votes, _ in candidate_results:\n",
    "    if votes > winner_votes:\n",
    "        winner_votes = votes\n",
    "        winner = candidate\n",
    "\n",
    "# Print the analysis to the terminal\n",
    "print(\"Election Results\")\n",
    "print(\"-\" * 30)\n",
    "print(f\"Total Votes: {total_votes}\")\n",
    "print(\"-\" * 30)\n",
    "for candidate, votes, percentage in candidate_results:\n",
    "    print(f\"{candidate}: {percentage:.3f}% ({votes})\")\n",
    "print(\"-\" * 30)\n",
    "print(f\"Winner: {winner}\")\n",
    "print(\"-\" * 30)\n",
    "\n",
    "# Export the results to a text file\n",
    "with open('election_results.txt', 'w') as output_file:\n",
    "    output_file.write(\"Election Results\\n\")\n",
    "    output_file.write(\"-\" * 30 + \"\\n\")\n",
    "    output_file.write(f\"Total Votes: {total_votes}\\n\")\n",
    "    output_file.write(\"-\" * 30 + \"\\n\")\n",
    "    for candidate, votes, percentage in candidate_results:\n",
    "        output_file.write(f\"{candidate}: {percentage:.3f}% ({votes})\\n\")\n",
    "    output_file.write(\"-\" * 30 + \"\\n\")\n",
    "    output_file.write(f\"Winner: {winner}\\n\")\n",
    "    output_file.write(\"-\" * 30 + \"\\n\")\n",
    "\n",
    "print(\"Analysis has been exported to election_results.txt\")\n"
   ]
  },
  {
   "cell_type": "code",
   "execution_count": null,
   "id": "cdf4aba8",
   "metadata": {},
   "outputs": [],
   "source": []
  }
 ],
 "metadata": {
  "kernelspec": {
   "display_name": "Python 3 (ipykernel)",
   "language": "python",
   "name": "python3"
  },
  "language_info": {
   "codemirror_mode": {
    "name": "ipython",
    "version": 3
   },
   "file_extension": ".py",
   "mimetype": "text/x-python",
   "name": "python",
   "nbconvert_exporter": "python",
   "pygments_lexer": "ipython3",
   "version": "3.10.13"
  }
 },
 "nbformat": 4,
 "nbformat_minor": 5
}
